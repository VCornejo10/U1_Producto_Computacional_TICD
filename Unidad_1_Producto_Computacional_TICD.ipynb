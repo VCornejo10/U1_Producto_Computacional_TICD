{
  "nbformat": 4,
  "nbformat_minor": 0,
  "metadata": {
    "colab": {
      "provenance": [],
      "authorship_tag": "ABX9TyPN0xr2TQx9NzzwbT0zYztq",
      "include_colab_link": true
    },
    "kernelspec": {
      "name": "python3",
      "display_name": "Python 3"
    },
    "language_info": {
      "name": "python"
    }
  },
  "cells": [
    {
      "cell_type": "markdown",
      "metadata": {
        "id": "view-in-github",
        "colab_type": "text"
      },
      "source": [
        "<a href=\"https://colab.research.google.com/github/VCornejo10/U1_Producto_Computacional_TICD/blob/main/Unidad_1_Producto_Computacional_TICD.ipynb\" target=\"_parent\"><img src=\"https://colab.research.google.com/assets/colab-badge.svg\" alt=\"Open In Colab\"/></a>"
      ]
    },
    {
      "cell_type": "markdown",
      "source": [
        "#Análisis Exploratorio y Preprocesamiento del Dataset MHEALTH\n",
        "Este notebook de Python está diseñado para el primer producto computacional del curso de Taller Integrado de Ciencia de Datos. El objetivo es realizar un análisis exploratorio de datos (EDA) y un preprocesamiento inicial del dataset MHEALTH (Mobile Health Dataset for Activity Recognition).\n",
        "\n",
        "El proceso se divide en las siguientes etapas:\n",
        "\n",
        "1. Carga del dataset: Obtención y lectura de los archivos de datos.\n",
        "2. Exploración de datos: Entendimiento de la estructura, dimensiones, tipos de variables, valores faltantes y estadísticas básicas.\n",
        "3. Visualización: Creación de gráficos para comprender la distribución de las variables y detectar valores atípicos.\n",
        "4. Limpieza y preprocesamiento: Manejo de valores atípicos y estandarización de las variables numéricas.\n",
        "\n",
        "\n",
        "\n",
        "\n",
        "\n",
        "\n"
      ],
      "metadata": {
        "id": "XiKeSQkM-6Qx"
      }
    },
    {
      "cell_type": "markdown",
      "source": [
        "##1.- Cargar el dataset\n",
        "Comenzamos importando las bibliotecas necesarias y descargando el dataset MHEALTH, que se encuentra en un archivo comprimido. Los datos de los 10 sujetos están en archivos de texto separados, por lo que los cargamos y los unimos en un único DataFrame para facilitar el análisis."
      ],
      "metadata": {
        "id": "kfId0Syw_tOI"
      }
    },
    {
      "cell_type": "code",
      "source": [
        "import pandas as pd\n",
        "import numpy as np\n",
        "import os\n",
        "import requests\n",
        "import zipfile\n",
        "import io\n",
        "\n",
        "# Carga del Dataset\n",
        "print(\"Descargando el dataset MHEALTH desde el repositorio de la UCI...\")\n",
        "\n",
        "# URL del dataset MHEALTH en el repositorio de la UCI\n",
        "url = \"https://archive.ics.uci.edu/static/public/319/mhealth+dataset.zip\"\n",
        "response = requests.get(url)\n",
        "\n",
        "# Descomprimir el archivo zip\n",
        "try:\n",
        "    with zipfile.ZipFile(io.BytesIO(response.content)) as zip_ref:\n",
        "        zip_ref.extractall()\n",
        "    print(\"Archivo ZIP extraído correctamente.\")\n",
        "except zipfile.BadZipFile:\n",
        "    print(\"Error: El archivo descargado no es un archivo ZIP válido.\")\n",
        "    exit()\n",
        "\n",
        "# Buscar la carpeta que contiene los archivos de registro después de la extracción\n",
        "# Esto hace el código más robusto a cambios en la estructura de la carpeta\n",
        "extracted_dirs = [d for d in os.listdir('.') if os.path.isdir(d) and 'MHEALTH' in d.upper()]\n",
        "\n",
        "if not extracted_dirs:\n",
        "    print(\"Error: No se encontró la carpeta del dataset después de la extracción.\")\n",
        "    exit()\n",
        "\n",
        "# Asumimos que la primera carpeta encontrada es la correcta\n",
        "data_folder = extracted_dirs[0]\n",
        "\n",
        "all_data = []\n",
        "\n",
        "# Cargar los datos de los 10 sujetos\n",
        "for i in range(1, 11):\n",
        "    file_path = os.path.join(data_folder, f\"mHealth_subject{i}.log\")\n",
        "\n",
        "    # Comprobar si el archivo existe\n",
        "    if os.path.exists(file_path):\n",
        "        # El archivo usa tabulaciones como separador y no tiene encabezado\n",
        "        df = pd.read_csv(file_path, sep='\\t', header=None)\n",
        "        all_data.append(df)\n",
        "    else:\n",
        "        print(f\"Error: Archivo no encontrado: {file_path}\")\n",
        "\n",
        "# Verificar si se cargaron datos antes de concatenar\n",
        "if all_data:\n",
        "    mhealth_df = pd.concat(all_data, ignore_index=True)\n",
        "    print(\"Dataset cargado y concatenado correctamente.\")\n",
        "    print(f\"Dimensiones del dataset: {mhealth_df.shape}\")\n",
        "\n",
        "    # Asignar nombres a las columnas (23 sensores + 1 actividad)\n",
        "    column_names = [f\"sensor_{i}\" for i in range(1, 24)] + [\"Activity\"]\n",
        "    mhealth_df.columns = column_names\n",
        "\n",
        "    print(\"\\nPrimeras 5 filas del dataset:\")\n",
        "    print(mhealth_df.head())\n",
        "\n",
        "else:\n",
        "    print(\"No se encontraron archivos de datos para cargar. Por favor, verifica la URL y la estructura del archivo ZIP.\")"
      ],
      "metadata": {
        "colab": {
          "base_uri": "https://localhost:8080/"
        },
        "id": "w1o7L7uc_2kG",
        "outputId": "eae383cc-bdcc-4bcb-8417-8d966d175c27"
      },
      "execution_count": 7,
      "outputs": [
        {
          "output_type": "stream",
          "name": "stdout",
          "text": [
            "Descargando el dataset MHEALTH desde el repositorio de la UCI...\n",
            "Archivo ZIP extraído correctamente.\n",
            "Dataset cargado y concatenado correctamente.\n",
            "Dimensiones del dataset: (1215745, 24)\n",
            "\n",
            "Primeras 5 filas del dataset:\n",
            "   sensor_1  sensor_2  sensor_3  sensor_4  sensor_5  sensor_6  sensor_7  \\\n",
            "0   -9.8184  0.009971   0.29563  0.004186  0.004186    2.1849   -9.6967   \n",
            "1   -9.8489  0.524040   0.37348  0.004186  0.016745    2.3876   -9.5080   \n",
            "2   -9.6602  0.181850   0.43742  0.016745  0.037677    2.4086   -9.5674   \n",
            "3   -9.6507  0.214220   0.24033  0.079540  0.117220    2.1814   -9.4301   \n",
            "4   -9.7030  0.303890   0.31156  0.221870  0.205130    2.4173   -9.3889   \n",
            "\n",
            "   sensor_8  sensor_9  sensor_10  ...  sensor_15  sensor_16  sensor_17  \\\n",
            "0   0.63077  0.103900   -0.84053  ...    -8.6499    -4.5781   0.187760   \n",
            "1   0.68389  0.085343   -0.83865  ...    -8.6275    -4.3198   0.023595   \n",
            "2   0.68113  0.085343   -0.83865  ...    -8.5055    -4.2772   0.275720   \n",
            "3   0.55031  0.085343   -0.83865  ...    -8.6279    -4.3163   0.367520   \n",
            "4   0.71098  0.085343   -0.83865  ...    -8.7008    -4.1459   0.407290   \n",
            "\n",
            "   sensor_18  sensor_19  sensor_20  sensor_21  sensor_22  sensor_23  Activity  \n",
            "0   -0.44902    -1.0103   0.034483   -2.35000  -1.610200  -0.030899         0  \n",
            "1   -0.44902    -1.0103   0.034483   -2.16320  -0.882540   0.326570         0  \n",
            "2   -0.44902    -1.0103   0.034483   -1.61750  -0.165620  -0.030693         0  \n",
            "3   -0.45686    -1.0082   0.025862   -1.07710   0.006945  -0.382620         0  \n",
            "4   -0.45686    -1.0082   0.025862   -0.53684   0.175900  -1.095500         0  \n",
            "\n",
            "[5 rows x 24 columns]\n"
          ]
        }
      ]
    },
    {
      "cell_type": "markdown",
      "source": [
        "##2.- Exploración de los Datos\n",
        "Una vez que los datos están cargados, realizamos una exploración inicial para entender su estructura y contenido."
      ],
      "metadata": {
        "id": "3NapznlR_60E"
      }
    },
    {
      "cell_type": "markdown",
      "source": [
        "###2.1.- Dimensiones y Tipos de Variables\n",
        "Utilizamos los métodos `.shape` y `.info()` para obtener una vista general del DataFrame."
      ],
      "metadata": {
        "id": "2H-XJ6gRAFo8"
      }
    },
    {
      "cell_type": "code",
      "source": [
        "# Mostrar las primeras 5 filas para verificar la carga\n",
        "print(\"\\nPrimeras 5 filas del dataset:\")\n",
        "print(mhealth_df.head())\n",
        "\n",
        "# Obtener información sobre las columnas y tipos de datos\n",
        "print(\"\\nInformación del DataFrame:\")\n",
        "mhealth_df.info()"
      ],
      "metadata": {
        "colab": {
          "base_uri": "https://localhost:8080/"
        },
        "id": "vKpKyFGaAPKs",
        "outputId": "63fef413-960b-4cbb-f2bc-f4c7c78f2b83"
      },
      "execution_count": 8,
      "outputs": [
        {
          "output_type": "stream",
          "name": "stdout",
          "text": [
            "\n",
            "Primeras 5 filas del dataset:\n",
            "   sensor_1  sensor_2  sensor_3  sensor_4  sensor_5  sensor_6  sensor_7  \\\n",
            "0   -9.8184  0.009971   0.29563  0.004186  0.004186    2.1849   -9.6967   \n",
            "1   -9.8489  0.524040   0.37348  0.004186  0.016745    2.3876   -9.5080   \n",
            "2   -9.6602  0.181850   0.43742  0.016745  0.037677    2.4086   -9.5674   \n",
            "3   -9.6507  0.214220   0.24033  0.079540  0.117220    2.1814   -9.4301   \n",
            "4   -9.7030  0.303890   0.31156  0.221870  0.205130    2.4173   -9.3889   \n",
            "\n",
            "   sensor_8  sensor_9  sensor_10  ...  sensor_15  sensor_16  sensor_17  \\\n",
            "0   0.63077  0.103900   -0.84053  ...    -8.6499    -4.5781   0.187760   \n",
            "1   0.68389  0.085343   -0.83865  ...    -8.6275    -4.3198   0.023595   \n",
            "2   0.68113  0.085343   -0.83865  ...    -8.5055    -4.2772   0.275720   \n",
            "3   0.55031  0.085343   -0.83865  ...    -8.6279    -4.3163   0.367520   \n",
            "4   0.71098  0.085343   -0.83865  ...    -8.7008    -4.1459   0.407290   \n",
            "\n",
            "   sensor_18  sensor_19  sensor_20  sensor_21  sensor_22  sensor_23  Activity  \n",
            "0   -0.44902    -1.0103   0.034483   -2.35000  -1.610200  -0.030899         0  \n",
            "1   -0.44902    -1.0103   0.034483   -2.16320  -0.882540   0.326570         0  \n",
            "2   -0.44902    -1.0103   0.034483   -1.61750  -0.165620  -0.030693         0  \n",
            "3   -0.45686    -1.0082   0.025862   -1.07710   0.006945  -0.382620         0  \n",
            "4   -0.45686    -1.0082   0.025862   -0.53684   0.175900  -1.095500         0  \n",
            "\n",
            "[5 rows x 24 columns]\n",
            "\n",
            "Información del DataFrame:\n",
            "<class 'pandas.core.frame.DataFrame'>\n",
            "RangeIndex: 1215745 entries, 0 to 1215744\n",
            "Data columns (total 24 columns):\n",
            " #   Column     Non-Null Count    Dtype  \n",
            "---  ------     --------------    -----  \n",
            " 0   sensor_1   1215745 non-null  float64\n",
            " 1   sensor_2   1215745 non-null  float64\n",
            " 2   sensor_3   1215745 non-null  float64\n",
            " 3   sensor_4   1215745 non-null  float64\n",
            " 4   sensor_5   1215745 non-null  float64\n",
            " 5   sensor_6   1215745 non-null  float64\n",
            " 6   sensor_7   1215745 non-null  float64\n",
            " 7   sensor_8   1215745 non-null  float64\n",
            " 8   sensor_9   1215745 non-null  float64\n",
            " 9   sensor_10  1215745 non-null  float64\n",
            " 10  sensor_11  1215745 non-null  float64\n",
            " 11  sensor_12  1215745 non-null  float64\n",
            " 12  sensor_13  1215745 non-null  float64\n",
            " 13  sensor_14  1215745 non-null  float64\n",
            " 14  sensor_15  1215745 non-null  float64\n",
            " 15  sensor_16  1215745 non-null  float64\n",
            " 16  sensor_17  1215745 non-null  float64\n",
            " 17  sensor_18  1215745 non-null  float64\n",
            " 18  sensor_19  1215745 non-null  float64\n",
            " 19  sensor_20  1215745 non-null  float64\n",
            " 20  sensor_21  1215745 non-null  float64\n",
            " 21  sensor_22  1215745 non-null  float64\n",
            " 22  sensor_23  1215745 non-null  float64\n",
            " 23  Activity   1215745 non-null  int64  \n",
            "dtypes: float64(23), int64(1)\n",
            "memory usage: 222.6 MB\n"
          ]
        }
      ]
    },
    {
      "cell_type": "markdown",
      "source": [
        "**Reflexión**: El dataset tiene más de un millón de filas y 24 columnas. Observamos que todas las columnas de sensores son de tipo `float64` y la columna `Activity` es de tipo `int64`. No hay valores nulos, lo que simplifica la limpieza inicial."
      ],
      "metadata": {
        "id": "gOr2AKAdAT9l"
      }
    },
    {
      "cell_type": "markdown",
      "source": [
        "###2.2.- Medidas Estadísticas Básicas\n",
        "Generamos un resumen estadístico de las columnas numéricas con `*.describe()*`. Esto nos da una idea de la media, desviación estándar, valores mínimos y máximos, y los cuartiles de cada sensor."
      ],
      "metadata": {
        "id": "eHC4cd-KAsHY"
      }
    },
    {
      "cell_type": "code",
      "source": [
        "# Resumen estadístico de las variables numéricas\n",
        "print(\"\\nResumen estadístico de las columnas de sensores:\")\n",
        "print(mhealth_df.describe())"
      ],
      "metadata": {
        "colab": {
          "base_uri": "https://localhost:8080/"
        },
        "id": "adGPfmdoA49A",
        "outputId": "61d49eed-2149-4318-b0b2-f8e74697527a"
      },
      "execution_count": 9,
      "outputs": [
        {
          "output_type": "stream",
          "name": "stdout",
          "text": [
            "\n",
            "Resumen estadístico de las columnas de sensores:\n",
            "           sensor_1      sensor_2      sensor_3      sensor_4      sensor_5  \\\n",
            "count  1.215745e+06  1.215745e+06  1.215745e+06  1.215745e+06  1.215745e+06   \n",
            "mean  -8.522361e+00 -2.140013e-01 -1.055950e+00 -5.122403e-03 -4.506434e-03   \n",
            "std    4.075293e+00  2.138954e+00  3.574163e+00  7.465971e-01  7.270395e-01   \n",
            "min   -2.243800e+01 -2.018800e+01 -1.840100e+01 -8.619600e+00 -8.619600e+00   \n",
            "25%   -9.804000e+00 -1.272900e+00 -2.867300e+00 -2.344300e-01 -1.883800e-01   \n",
            "50%   -9.311400e+00 -3.538100e-01 -8.702000e-01 -7.116700e-02 -4.186300e-02   \n",
            "75%   -7.637100e+00  7.097800e-01  7.259100e-01  1.590800e-01  1.507100e-01   \n",
            "max    1.909400e+01  2.092700e+01  2.619600e+01  8.514900e+00  8.519100e+00   \n",
            "\n",
            "           sensor_6      sensor_7      sensor_8      sensor_9     sensor_10  \\\n",
            "count  1.215745e+06  1.215745e+06  1.215745e+06  1.215745e+06  1.215745e+06   \n",
            "mean   1.494200e+00 -9.692878e+00 -9.548056e-01 -1.598951e-03 -6.166318e-01   \n",
            "std    3.826485e+00  4.171303e+00  5.461803e+00  4.912172e-01  3.546406e-01   \n",
            "min   -2.214600e+01 -1.961900e+01 -1.937300e+01 -2.146600e+00 -7.789900e+00   \n",
            "25%    1.413100e-01 -1.020100e+01 -2.649400e+00 -4.359900e-01 -8.180100e-01   \n",
            "50%    1.308900e+00 -9.670300e+00 -1.645600e-02 -1.484200e-02 -7.073200e-01   \n",
            "75%    2.575800e+00 -9.042200e+00  1.301300e+00  4.489800e-01 -5.403400e-01   \n",
            "max    2.005400e+01  2.116100e+01  2.501500e+01  6.048400e+01  2.011300e+00   \n",
            "\n",
            "       ...     sensor_15     sensor_16     sensor_17     sensor_18  \\\n",
            "count  ...  1.215745e+06  1.215745e+06  1.215745e+06  1.215745e+06   \n",
            "mean   ... -3.713413e+00 -5.805526e+00  2.393880e+00 -2.761061e-01   \n",
            "std    ...  4.763586e+00  5.757639e+00  3.876503e+00  5.276888e-01   \n",
            "min    ... -2.236100e+01 -1.897200e+01 -1.823900e+01 -8.339200e+00   \n",
            "25%    ... -6.076000e+00 -9.404200e+00  1.296500e-01 -7.058800e-01   \n",
            "50%    ... -2.977600e+00 -7.461500e+00  1.928100e+00 -3.549000e-01   \n",
            "75%    ... -1.193700e+00 -2.533900e+00  4.914700e+00  9.607800e-02   \n",
            "max    ...  1.986400e+01  2.219100e+01  2.574100e+01  3.319600e+00   \n",
            "\n",
            "          sensor_19     sensor_20     sensor_21     sensor_22     sensor_23  \\\n",
            "count  1.215745e+06  1.215745e+06  1.215745e+06  1.215745e+06  1.215745e+06   \n",
            "mean  -4.664340e-01  2.666335e-01  1.702138e-01  7.144626e-01 -3.668126e-01   \n",
            "std    5.555510e-01  5.643804e-01  2.667617e+01  3.344453e+01  6.955069e+01   \n",
            "min   -3.570800e+00 -2.689700e+00 -3.190300e+02 -3.639000e+02 -7.175500e+02   \n",
            "25%   -8.973300e-01 -2.370700e-01 -6.191900e+00 -9.519500e+00 -1.423800e+01   \n",
            "50%   -6.345000e-01  3.017200e-01  3.626200e-01  3.521700e-01 -6.729600e-01   \n",
            "75%   -1.067800e-01  7.780200e-01  6.792300e+00  1.007600e+01  1.318600e+01   \n",
            "max    1.556500e+00  2.750000e+00  2.511500e+02  3.377600e+02  6.571800e+02   \n",
            "\n",
            "           Activity  \n",
            "count  1.215745e+06  \n",
            "mean   1.741465e+00  \n",
            "std    3.283679e+00  \n",
            "min    0.000000e+00  \n",
            "25%    0.000000e+00  \n",
            "50%    0.000000e+00  \n",
            "75%    2.000000e+00  \n",
            "max    1.200000e+01  \n",
            "\n",
            "[8 rows x 24 columns]\n"
          ]
        }
      ]
    },
    {
      "cell_type": "markdown",
      "source": [
        "**Reflexión**: Notamos que las medias y desviaciones estándar de los diferentes sensores varían significativamente, lo que confirma que las variables están en escalas distintas. Esto justifica la necesidad de estandarización o normalización antes de aplicar modelos de machine learning."
      ],
      "metadata": {
        "id": "50Z9Wu_gA_5D"
      }
    },
    {
      "cell_type": "markdown",
      "source": [
        "##3.- Visualización de Datos\n",
        "La visualización es clave para identificar la distribución de las variables y detectar valores atípicos."
      ],
      "metadata": {
        "id": "Pnl3aKxdBGFD"
      }
    },
    {
      "cell_type": "markdown",
      "source": [
        "###3.1.- Distribución de las Actividades\n",
        "Verificamos la distribución de la variable objetivo, `Activity`, para saber si el dataset está balanceado.\n",
        "\n"
      ],
      "metadata": {
        "id": "YIcEmMuWBeLB"
      }
    },
    {
      "cell_type": "code",
      "source": [
        "# Contar la frecuencia de cada actividad\n",
        "print(\"\\nFrecuencia de cada tipo de actividad:\")\n",
        "print(mhealth_df['Activity'].value_counts().sort_index())\n",
        "\n",
        "# Visualizar la distribución de las actividades\n",
        "plt.figure(figsize=(10, 6))\n",
        "sns.countplot(x='Activity', data=mhealth_df)\n",
        "plt.title('Distribución de las Actividades en el Dataset MHEALTH')\n",
        "plt.xlabel('Código de Actividad')\n",
        "plt.ylabel('Número de Muestras')\n",
        "plt.xticks(rotation=45)\n",
        "plt.grid(axis='y', linestyle='--', alpha=0.7)\n",
        "plt.show()"
      ],
      "metadata": {
        "colab": {
          "base_uri": "https://localhost:8080/",
          "height": 882
        },
        "id": "Ye8stX1DBoXb",
        "outputId": "ba24b0e2-d7ea-44f2-918e-7a2f31591ae8"
      },
      "execution_count": 10,
      "outputs": [
        {
          "output_type": "stream",
          "name": "stdout",
          "text": [
            "\n",
            "Frecuencia de cada tipo de actividad:\n",
            "Activity\n",
            "0     872550\n",
            "1      30720\n",
            "2      30720\n",
            "3      30720\n",
            "4      30720\n",
            "5      30720\n",
            "6      28315\n",
            "7      29441\n",
            "8      29337\n",
            "9      30720\n",
            "10     30720\n",
            "11     30720\n",
            "12     10342\n",
            "Name: count, dtype: int64\n"
          ]
        },
        {
          "output_type": "display_data",
          "data": {
            "text/plain": [
              "<Figure size 1000x600 with 1 Axes>"
            ],
            "image/png": "[encoded data removed]"
          },
          "metadata": {}
        }
      ]
    },
    {
      "cell_type": "markdown",
      "source": [
        "**Reflexión**: Los códigos de actividad del 1 al 12 tienen un número considerable de muestras, mientras que el código 0 (Reposo) es la clase dominante. El código 13 no tiene muestras, por lo que podemos considerar eliminar esta etiqueta o reetiquetarla si fuera necesario. El desbalance de clases es un aspecto importante a considerar en etapas posteriores, como el modelado."
      ],
      "metadata": {
        "id": "bOM0XynIBrMF"
      }
    },
    {
      "cell_type": "markdown",
      "source": [
        "###3.2.- Distribución y Detección de Valores Atípicos en Sensores\n",
        "Utilizamos box plots para visualizar la distribución de los sensores y detectar valores atípicos. Al haber 23 sensores, graficamos una selección representativa."
      ],
      "metadata": {
        "id": "9GtImZiyB6Wh"
      }
    },
    {
      "cell_type": "code",
      "source": [
        "# Seleccionar un subconjunto de sensores para la visualización\n",
        "selected_sensors = ['sensor_1', 'sensor_2', 'sensor_3', 'sensor_10', 'sensor_11', 'sensor_20']\n",
        "\n",
        "# Crear box plots para los sensores seleccionados\n",
        "plt.figure(figsize=(15, 10))\n",
        "for i, sensor in enumerate(selected_sensors):\n",
        "    plt.subplot(2, 3, i + 1)\n",
        "    sns.boxplot(y=mhealth_df[sensor])\n",
        "    plt.title(f'Box Plot de {sensor}')\n",
        "    plt.ylabel('Valor del Sensor')\n",
        "plt.tight_layout()\n",
        "plt.show()"
      ],
      "metadata": {
        "colab": {
          "base_uri": "https://localhost:8080/",
          "height": 950
        },
        "id": "iwE3C88hCE99",
        "outputId": "2d2e38b1-d722-4f55-9d27-eba6e6aad6f7"
      },
      "execution_count": 11,
      "outputs": [
        {
          "output_type": "display_data",
          "data": {
            "text/plain": [
              "<Figure size 1500x1000 with 6 Axes>"
            ],
            "image/png": "[encoded data removed]"
          },
          "metadata": {}
        }
      ]
    },
    {
      "cell_type": "markdown",
      "source": [
        "**Reflexión**: Los box plots muestran una gran cantidad de valores atípicos en la mayoría de los sensores. Estos valores extremos podrían ser el resultado de movimientos bruscos, picos en las lecturas de los sensores, o simplemente variaciones naturales en los datos fisiológicos. En este caso, no los eliminaremos, ya que podrían contener información relevante sobre la naturaleza de las actividades, como los picos de aceleración."
      ],
      "metadata": {
        "id": "kkwEjjdbCIW7"
      }
    },
    {
      "cell_type": "markdown",
      "source": [
        "##4.- Limpieza y Preprocesamiento Inicial\n",
        "El preprocesamiento es una etapa fundamental para asegurar que los datos estén en un formato adecuado para los algoritmos de machine learning."
      ],
      "metadata": {
        "id": "ui2_k86hCLv6"
      }
    },
    {
      "cell_type": "markdown",
      "source": [
        "###4.1.- Estandarización de Variables\n",
        "Dada la variabilidad en la escala de los sensores, la estandarización es el método más adecuado. Transforma los datos para que tengan una media de 0 y una desviación estándar de 1, lo que es crucial para algoritmos basados en distancias como el SVM o la regresión logística."
      ],
      "metadata": {
        "id": "e7EYWX5YCSRG"
      }
    },
    {
      "cell_type": "code",
      "source": [
        "# Definir las columnas de los sensores\n",
        "sensor_cols = [f\"sensor_{i}\" for i in range(1, 24)]\n",
        "\n",
        "# Inicializar el estandarizador\n",
        "scaler = StandardScaler()\n",
        "\n",
        "# Ajustar y transformar los datos de los sensores\n",
        "mhealth_df[sensor_cols] = scaler.fit_transform(mhealth_df[sensor_cols])\n",
        "\n",
        "print(\"Datos de los sensores estandarizados.\")\n",
        "print(\"\\nResumen estadístico del DataFrame después de la estandarización:\")\n",
        "print(mhealth_df.describe())"
      ],
      "metadata": {
        "colab": {
          "base_uri": "https://localhost:8080/"
        },
        "id": "N0i68u94CWd-",
        "outputId": "568327d5-6f88-4a96-f81b-c57afb70e5ba"
      },
      "execution_count": 12,
      "outputs": [
        {
          "output_type": "stream",
          "name": "stdout",
          "text": [
            "Datos de los sensores estandarizados.\n",
            "\n",
            "Resumen estadístico del DataFrame después de la estandarización:\n",
            "           sensor_1      sensor_2      sensor_3      sensor_4      sensor_5  \\\n",
            "count  1.215745e+06  1.215745e+06  1.215745e+06  1.215745e+06  1.215745e+06   \n",
            "mean   8.576460e-16 -1.776729e-18 -9.631744e-17 -4.839250e-18 -3.769706e-18   \n",
            "std    1.000000e+00  1.000000e+00  1.000000e+00  1.000000e+00  1.000000e+00   \n",
            "min   -3.414637e+00 -9.338210e+00 -4.852900e+00 -1.153833e+01 -1.184956e+01   \n",
            "25%   -3.144901e-01 -4.950545e-01 -5.067903e-01 -3.071371e-01 -2.529074e-01   \n",
            "50%   -1.936153e-01 -6.536311e-02  5.197011e-02 -8.846087e-02 -5.138178e-02   \n",
            "75%    2.172265e-01  4.318847e-01  4.985392e-01  2.199345e-01  2.134911e-01   \n",
            "max    6.776537e+00  9.883805e+00  7.624711e+00  1.141181e+01  1.172372e+01   \n",
            "\n",
            "           sensor_6      sensor_7      sensor_8      sensor_9     sensor_10  \\\n",
            "count  1.215745e+06  1.215745e+06  1.215745e+06  1.215745e+06  1.215745e+06   \n",
            "mean  -1.953467e-16 -2.002094e-16 -3.558134e-17  3.684376e-17  1.885203e-16   \n",
            "std    1.000000e+00  1.000000e+00  1.000000e+00  1.000000e+00  1.000000e+00   \n",
            "min   -6.178048e+00 -2.379622e+00 -3.372183e+00 -4.366707e+00 -2.022688e+01   \n",
            "25%   -3.535596e-01 -1.218137e-01 -3.102629e-01 -8.843159e-01 -5.678377e-01   \n",
            "50%   -4.842565e-02  5.412814e-03  1.718022e-01 -2.695967e-02 -2.557188e-01   \n",
            "75%    2.826616e-01  1.559893e-01  4.130699e-01  9.172706e-01  2.151243e-01   \n",
            "max    4.850354e+00  7.396703e+00  4.754806e+00  1.231342e+02  7.410130e+00   \n",
            "\n",
            "       ...     sensor_15     sensor_16     sensor_17     sensor_18  \\\n",
            "count  ...  1.215745e+06  1.215745e+06  1.215745e+06  1.215745e+06   \n",
            "mean   ...  3.377656e-16 -1.763638e-16 -4.881330e-17  2.339672e-16   \n",
            "std    ...  1.000000e+00  1.000000e+00  1.000000e+00  1.000000e+00   \n",
            "min    ... -3.914612e+00 -2.286784e+00 -5.322552e+00 -1.528002e+01   \n",
            "25%    ... -4.959683e-01 -6.250262e-01 -5.840912e-01 -8.144461e-01   \n",
            "50%    ...  1.544663e-01 -2.876134e-01 -1.201548e-01 -1.493190e-01   \n",
            "75%    ...  5.289532e-01  5.682238e-01  6.502821e-01  7.053101e-01   \n",
            "max    ...  4.949511e+00  4.862503e+00  6.022729e+00  6.814068e+00   \n",
            "\n",
            "          sensor_19     sensor_20     sensor_21     sensor_22     sensor_23  \\\n",
            "count  1.215745e+06  1.215745e+06  1.215745e+06  1.215745e+06  1.215745e+06   \n",
            "mean   3.138265e-16 -1.911387e-16 -4.161287e-18  1.611914e-17 -3.039142e-18   \n",
            "std    1.000000e+00  1.000000e+00  1.000000e+00  1.000000e+00  1.000000e+00   \n",
            "min   -5.587907e+00 -5.238195e+00 -1.196575e+01 -1.090207e+01 -1.031167e+01   \n",
            "25%   -7.756194e-01 -8.924897e-01 -2.384944e-01 -3.059982e-01 -1.994400e-01   \n",
            "50%   -3.025214e-01  6.216826e-02  7.212667e-03 -1.083265e-02 -4.401790e-03   \n",
            "75%    6.473828e-01  9.061030e-01  2.482399e-01  2.799125e-01  1.948624e-01   \n",
            "max    3.641312e+00  4.400166e+00  9.408394e+00  1.007775e+01  9.454213e+00   \n",
            "\n",
            "           Activity  \n",
            "count  1.215745e+06  \n",
            "mean   1.741465e+00  \n",
            "std    3.283679e+00  \n",
            "min    0.000000e+00  \n",
            "25%    0.000000e+00  \n",
            "50%    0.000000e+00  \n",
            "75%    2.000000e+00  \n",
            "max    1.200000e+01  \n",
            "\n",
            "[8 rows x 24 columns]\n"
          ]
        }
      ]
    },
    {
      "cell_type": "markdown",
      "source": [
        "**Reflexión**: El resumen estadístico posterior a la estandarización confirma que las medias de los sensores están muy cerca de 0 y las desviaciones estándar cerca de 1, lo que indica que el proceso fue exitoso. Los datos ahora están listos para ser utilizados en modelos de aprendizaje automático."
      ],
      "metadata": {
        "id": "yBqajMt-CZDL"
      }
    },
    {
      "cell_type": "markdown",
      "source": [
        "##Conclusiones\n",
        "Este notebook ha demostrado las primeras etapas del ciclo de vida de un proyecto de ciencia de datos: carga, exploración y preprocesamiento. Hemos logrado:\n",
        "\n",
        "- Cargar y consolidar el dataset MHEALTH.\n",
        "- Entender la estructura y los tipos de datos, así como la distribución de las variables.\n",
        "- Identificar y visualizar la distribución de las actividades y los valores atípicos en los sensores.\n",
        "- Estandarizar las variables numéricas, preparando el dataset para futuras tareas de modelado.\n",
        "\n",
        "Los siguientes pasos en el proyecto incluirían la creación de ventanas de datos (ya que los datos son de series temporales) y la aplicación de modelos de clasificación para predecir las actividades. Este trabajo es una base sólida para continuar con el análisis y el desarrollo de un modelo predictivo."
      ],
      "metadata": {
        "id": "Xg2A-EOdCfAR"
      }
    }
  ]
}